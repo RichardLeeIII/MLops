{
 "cells": [
  {
   "cell_type": "code",
   "execution_count": 1,
   "id": "b2cf0d13",
   "metadata": {},
   "outputs": [
    {
     "name": "stdout",
     "output_type": "stream",
     "text": [
      "hello world\n"
     ]
    }
   ],
   "source": [
    "print(\"hello world\")"
   ]
  },
  {
   "cell_type": "markdown",
   "id": "911e03da-9721-487b-ae96-0880b49c4239",
   "metadata": {},
   "source": [
    "# Variable"
   ]
  },
  {
   "cell_type": "code",
   "execution_count": 2,
   "id": "0f75dcc2-eb5d-42b8-b5d7-ed6418ec8c93",
   "metadata": {},
   "outputs": [
    {
     "name": "stdout",
     "output_type": "stream",
     "text": [
      "10\n"
     ]
    }
   ],
   "source": [
    "x = 10 #x is variable name\n",
    "# 10 is the literal\n",
    "print(x)"
   ]
  },
  {
   "cell_type": "markdown",
   "id": "84af0e5f-f028-413d-bf21-55f32bbb3d55",
   "metadata": {},
   "source": [
    "## Ketboard Shorcuts\n",
    "- b --> add a cell below\n",
    "- a --> add a cell above\n",
    "- dd --> delete current cell"
   ]
  },
  {
   "cell_type": "markdown",
   "id": "80f23aca-32a3-4523-924c-7309a9b4b943",
   "metadata": {},
   "source": [
    "# Literals\n",
    "- Literals are values used in Python\n",
    "- Types are: Numeric, Boolean, Collection, Strig, Special"
   ]
  },
  {
   "cell_type": "code",
   "execution_count": 5,
   "id": "bdb93b7a-6436-4079-ac77-678fe69f69e6",
   "metadata": {},
   "outputs": [],
   "source": [
    "# numeric\n",
    "# integer, float, complex\n",
    "x=0\n",
    "y=-1\n",
    "z=1"
   ]
  },
  {
   "cell_type": "code",
   "execution_count": 6,
   "id": "fc9fe020-9c18-4f5f-b954-69527eeefed5",
   "metadata": {},
   "outputs": [
    {
     "name": "stdout",
     "output_type": "stream",
     "text": [
      "<class 'int'>\n"
     ]
    }
   ],
   "source": [
    "print(type(x))"
   ]
  },
  {
   "cell_type": "code",
   "execution_count": 7,
   "id": "64168bdc-98b7-46be-b6fd-d96ff950dcc3",
   "metadata": {},
   "outputs": [
    {
     "name": "stdout",
     "output_type": "stream",
     "text": [
      "<class 'int'>\n"
     ]
    }
   ],
   "source": [
    "print(type(y))"
   ]
  },
  {
   "cell_type": "code",
   "execution_count": 8,
   "id": "3ffa0b51-ec19-4935-a5db-dd8ae84f5834",
   "metadata": {},
   "outputs": [
    {
     "name": "stdout",
     "output_type": "stream",
     "text": [
      "<class 'int'>\n"
     ]
    }
   ],
   "source": [
    "print(type(z))"
   ]
  },
  {
   "cell_type": "code",
   "execution_count": 9,
   "id": "9bf9eba9-bae9-4115-a53f-f6851f757398",
   "metadata": {},
   "outputs": [],
   "source": [
    "#float\n",
    "x=25.0"
   ]
  },
  {
   "cell_type": "code",
   "execution_count": 10,
   "id": "cd5e1615-836d-409f-855f-d13ea83e2b8b",
   "metadata": {},
   "outputs": [
    {
     "name": "stdout",
     "output_type": "stream",
     "text": [
      "<class 'float'>\n"
     ]
    }
   ],
   "source": [
    "print(type(x))"
   ]
  },
  {
   "cell_type": "code",
   "execution_count": 11,
   "id": "e9b83a5f-b3f7-4a5f-9ba5-f7da6c6713db",
   "metadata": {},
   "outputs": [
    {
     "name": "stdout",
     "output_type": "stream",
     "text": [
      "<class 'complex'>\n"
     ]
    }
   ],
   "source": [
    "#complex\n",
    "x=1+2j\n",
    "print(type(x))"
   ]
  },
  {
   "cell_type": "markdown",
   "id": "87ff2113-9393-47ab-8afe-e0851dafd97c",
   "metadata": {},
   "source": [
    "# Boolean"
   ]
  },
  {
   "cell_type": "code",
   "execution_count": 12,
   "id": "6fc729cf-e8ab-482a-8c7e-9e557e88a7db",
   "metadata": {},
   "outputs": [
    {
     "name": "stdout",
     "output_type": "stream",
     "text": [
      "<class 'bool'>\n",
      "<class 'bool'>\n"
     ]
    }
   ],
   "source": [
    "x=True\n",
    "y=False\n",
    "print(type(x))\n",
    "print(type(y))"
   ]
  },
  {
   "cell_type": "markdown",
   "id": "2fd0982a-3393-480b-b8b0-f2f9586982fe",
   "metadata": {},
   "source": [
    "# String\n",
    "- string can be collection of characters inside the single, double, triple single or double quotes"
   ]
  },
  {
   "cell_type": "code",
   "execution_count": 15,
   "id": "716582a6-75cc-4dd1-8744-e182944efa0c",
   "metadata": {},
   "outputs": [
    {
     "name": "stdout",
     "output_type": "stream",
     "text": [
      "<class 'str'>\n",
      "<class 'str'>\n",
      "<class 'str'>\n"
     ]
    }
   ],
   "source": [
    "x= \"spring\"\n",
    "y= 'spring'\n",
    "z= '''spring'''\n",
    "print(type(x))\n",
    "print(type(y))\n",
    "print(type(z))"
   ]
  },
  {
   "cell_type": "markdown",
   "id": "5b87be74-c7b6-4b70-8a46-4bc92e9a664f",
   "metadata": {},
   "source": [
    "# Collection\n",
    "- list\n",
    "- tuples\n",
    "- dict\n",
    "- sets"
   ]
  },
  {
   "cell_type": "markdown",
   "id": "18de592a-6d38-40f0-985c-f466c56beafe",
   "metadata": {},
   "source": [
    "# Operators in Python Programming\n",
    "- Arithmetic Operators\r",
    "- \n",
    "Comparison Operator\n",
    "- \r\n",
    "Assignment Operato\n",
    "- s\r\n",
    "Logical Operat\n",
    "- rs\r\n",
    "Bitwise Opera\n",
    "- ors\r\n",
    "Identity Oper\n",
    "- tors\r\n",
    "Membership Operators"
   ]
  },
  {
   "cell_type": "code",
   "execution_count": 18,
   "id": "ddb04aab-a113-48c6-b9c3-ab885fda7d75",
   "metadata": {},
   "outputs": [
    {
     "name": "stdout",
     "output_type": "stream",
     "text": [
      "35\n"
     ]
    }
   ],
   "source": [
    "#Arithmetic\n",
    "x=10\n",
    "y=25\n",
    "print(x+y)"
   ]
  },
  {
   "cell_type": "code",
   "execution_count": 19,
   "id": "3328e03f-aeee-413f-9921-17e79a42cad1",
   "metadata": {},
   "outputs": [
    {
     "data": {
      "text/plain": [
       "10"
      ]
     },
     "execution_count": 19,
     "metadata": {},
     "output_type": "execute_result"
    }
   ],
   "source": [
    "#mod\n",
    "# return the remainder\n",
    "x%y"
   ]
  },
  {
   "cell_type": "code",
   "execution_count": 20,
   "id": "f6af41b3-b44b-4761-b7c3-4c89fba13a8d",
   "metadata": {},
   "outputs": [
    {
     "data": {
      "text/plain": [
       "5"
      ]
     },
     "execution_count": 20,
     "metadata": {},
     "output_type": "execute_result"
    }
   ],
   "source": [
    "y%x"
   ]
  },
  {
   "cell_type": "code",
   "execution_count": 21,
   "id": "afcacd25-c4f0-4d83-ac62-6c2de3a361a3",
   "metadata": {},
   "outputs": [
    {
     "data": {
      "text/plain": [
       "False"
      ]
     },
     "execution_count": 21,
     "metadata": {},
     "output_type": "execute_result"
    }
   ],
   "source": [
    "#comparison\n",
    "x>y"
   ]
  },
  {
   "cell_type": "code",
   "execution_count": 22,
   "id": "7ae0cf27-e31f-4cd2-bcb5-28790ee06ca0",
   "metadata": {},
   "outputs": [
    {
     "data": {
      "text/plain": [
       "True"
      ]
     },
     "execution_count": 22,
     "metadata": {},
     "output_type": "execute_result"
    }
   ],
   "source": [
    "x<y"
   ]
  },
  {
   "cell_type": "code",
   "execution_count": 23,
   "id": "3028f7fc-aef3-4e9e-8ef7-8c9b0a25a194",
   "metadata": {},
   "outputs": [
    {
     "data": {
      "text/plain": [
       "True"
      ]
     },
     "execution_count": 23,
     "metadata": {},
     "output_type": "execute_result"
    }
   ],
   "source": [
    "x!=y"
   ]
  },
  {
   "cell_type": "code",
   "execution_count": 25,
   "id": "ba898cf3-054e-4723-bf64-5aabc7164f3b",
   "metadata": {},
   "outputs": [
    {
     "data": {
      "text/plain": [
       "False"
      ]
     },
     "execution_count": 25,
     "metadata": {},
     "output_type": "execute_result"
    }
   ],
   "source": [
    "x==y"
   ]
  },
  {
   "cell_type": "markdown",
   "id": "2d605f81-788e-4c00-aef1-845b53c4c1dc",
   "metadata": {},
   "source": [
    "# Assignment Operators"
   ]
  },
  {
   "cell_type": "code",
   "execution_count": 29,
   "id": "9ee8046d-db3e-4f38-9689-b45a948105b2",
   "metadata": {},
   "outputs": [
    {
     "data": {
      "text/plain": [
       "100"
      ]
     },
     "execution_count": 29,
     "metadata": {},
     "output_type": "execute_result"
    }
   ],
   "source": [
    "x=100\n",
    "x"
   ]
  },
  {
   "cell_type": "code",
   "execution_count": 31,
   "id": "9d8f34b2-e0f0-45a2-8082-42ded84dd08b",
   "metadata": {},
   "outputs": [
    {
     "data": {
      "text/plain": [
       "110"
      ]
     },
     "execution_count": 31,
     "metadata": {},
     "output_type": "execute_result"
    }
   ],
   "source": [
    "x += 10 #x= x+10\n",
    "x"
   ]
  },
  {
   "cell_type": "code",
   "execution_count": 32,
   "id": "8998f203-ef10-425d-9067-58571bd93185",
   "metadata": {},
   "outputs": [
    {
     "data": {
      "text/plain": [
       "100"
      ]
     },
     "execution_count": 32,
     "metadata": {},
     "output_type": "execute_result"
    }
   ],
   "source": [
    "x -= 10 #x= x-10\n",
    "x"
   ]
  },
  {
   "cell_type": "code",
   "execution_count": 33,
   "id": "ccee5e20-ee5e-415d-828a-0336b816b2e6",
   "metadata": {},
   "outputs": [
    {
     "data": {
      "text/plain": [
       "10.0"
      ]
     },
     "execution_count": 33,
     "metadata": {},
     "output_type": "execute_result"
    }
   ],
   "source": [
    "x /= 10 #x= x/10\n",
    "x"
   ]
  },
  {
   "cell_type": "markdown",
   "id": "18d3ddf6-b9da-4967-b68d-7ffda0ddc92e",
   "metadata": {},
   "source": [
    "# Bitwise Operator"
   ]
  },
  {
   "cell_type": "code",
   "execution_count": 34,
   "id": "bcb825e7-bbff-4861-be56-94211cf97bc5",
   "metadata": {},
   "outputs": [
    {
     "data": {
      "text/plain": [
       "8"
      ]
     },
     "execution_count": 34,
     "metadata": {},
     "output_type": "execute_result"
    }
   ],
   "source": [
    "x= 10\n",
    "x & y"
   ]
  },
  {
   "cell_type": "markdown",
   "id": "8cc92687-039a-49a6-a17f-d098e188cc46",
   "metadata": {},
   "source": [
    "# Identity Operator"
   ]
  },
  {
   "cell_type": "code",
   "execution_count": 35,
   "id": "3ac88cb0-26dc-45d9-af6f-d6ecf1ddcea6",
   "metadata": {},
   "outputs": [
    {
     "name": "stderr",
     "output_type": "stream",
     "text": [
      "<>:1: SyntaxWarning: \"is\" with a literal. Did you mean \"==\"?\n",
      "<>:1: SyntaxWarning: \"is\" with a literal. Did you mean \"==\"?\n",
      "C:\\Users\\WhiyongL\\AppData\\Local\\Temp\\ipykernel_30668\\2183931627.py:1: SyntaxWarning: \"is\" with a literal. Did you mean \"==\"?\n",
      "  x is 10\n"
     ]
    },
    {
     "data": {
      "text/plain": [
       "True"
      ]
     },
     "execution_count": 35,
     "metadata": {},
     "output_type": "execute_result"
    }
   ],
   "source": [
    "x is 10"
   ]
  },
  {
   "cell_type": "markdown",
   "id": "3653aa7c-4ac3-49b9-8da7-03d3f142cace",
   "metadata": {},
   "source": [
    "# Memebership Operator"
   ]
  },
  {
   "cell_type": "markdown",
   "id": "4eb7a5bc-9fa9-467e-a19b-8f1af31d167d",
   "metadata": {},
   "source": [
    "- in\n",
    "- not in"
   ]
  },
  {
   "cell_type": "markdown",
   "id": "2a1f94e7-5043-4550-aa93-afb2c7d71524",
   "metadata": {},
   "source": [
    "# String\n",
    "- Concatenation\n",
    "- Repetition\n",
    "- Membership Operators\n",
    "- Length\n",
    "- Indexing\n",
    "- Slicing"
   ]
  },
  {
   "cell_type": "code",
   "execution_count": 40,
   "id": "788d461b-a8ba-4537-a9c3-21b68c0934d9",
   "metadata": {},
   "outputs": [],
   "source": [
    "# Single line\n",
    "x = 'hello world welcome to mlops 12312'\n",
    "y = \" hello world mlops\"\n",
    "\n",
    "# Multi line string\n",
    "z = ''' hello world \n",
    "welcome '''\n",
    "w = \"\"\" welcome to \n",
    "mlops class \"\"\""
   ]
  },
  {
   "cell_type": "code",
   "execution_count": 37,
   "id": "3eeb0772-dbc9-4031-a894-91a2c52bf6e7",
   "metadata": {},
   "outputs": [
    {
     "data": {
      "text/plain": [
       "' hello world \\nwelcome '"
      ]
     },
     "execution_count": 37,
     "metadata": {},
     "output_type": "execute_result"
    }
   ],
   "source": [
    "z"
   ]
  },
  {
   "cell_type": "code",
   "execution_count": 41,
   "id": "5fe9c21c-b7c6-4f73-8554-bdb02735d49a",
   "metadata": {},
   "outputs": [
    {
     "name": "stdout",
     "output_type": "stream",
     "text": [
      " hello world \n",
      "welcome \n"
     ]
    }
   ],
   "source": [
    "print(z)"
   ]
  },
  {
   "cell_type": "code",
   "execution_count": 42,
   "id": "bc5af8cd-0a20-4fd9-9d0a-c1e5c3d1296a",
   "metadata": {},
   "outputs": [
    {
     "data": {
      "text/plain": [
       "'mlopsproject'"
      ]
     },
     "execution_count": 42,
     "metadata": {},
     "output_type": "execute_result"
    }
   ],
   "source": [
    "x = 'mlops'\n",
    "y = 'project'\n",
    "x+y # concatenation"
   ]
  },
  {
   "cell_type": "code",
   "execution_count": 44,
   "id": "320bc845-5e89-4ac0-b88d-6aebee5ba7ee",
   "metadata": {},
   "outputs": [
    {
     "data": {
      "text/plain": [
       "'mlopsmlops'"
      ]
     },
     "execution_count": 44,
     "metadata": {},
     "output_type": "execute_result"
    }
   ],
   "source": [
    "x*2 #repetition"
   ]
  },
  {
   "cell_type": "code",
   "execution_count": 45,
   "id": "3afcffcd-6595-4f30-bd17-93468fd36554",
   "metadata": {},
   "outputs": [
    {
     "data": {
      "text/plain": [
       "True"
      ]
     },
     "execution_count": 45,
     "metadata": {},
     "output_type": "execute_result"
    }
   ],
   "source": [
    "'mlops' in x # membership operator"
   ]
  },
  {
   "cell_type": "code",
   "execution_count": 46,
   "id": "01833e02-40dd-48c2-99c6-224c890e284c",
   "metadata": {},
   "outputs": [
    {
     "data": {
      "text/plain": [
       "False"
      ]
     },
     "execution_count": 46,
     "metadata": {},
     "output_type": "execute_result"
    }
   ],
   "source": [
    "'welcome' in x"
   ]
  },
  {
   "cell_type": "code",
   "execution_count": 47,
   "id": "657bc73f-c9dd-428b-91b5-82866ca38647",
   "metadata": {},
   "outputs": [
    {
     "data": {
      "text/plain": [
       "5"
      ]
     },
     "execution_count": 47,
     "metadata": {},
     "output_type": "execute_result"
    }
   ],
   "source": [
    "len(x)"
   ]
  },
  {
   "cell_type": "code",
   "execution_count": null,
   "id": "7490d05d-d26d-46fc-81b8-a6957e6b35f0",
   "metadata": {},
   "outputs": [],
   "source": [
    "# indexing - fetch the element\n",
    "# slicing - fetching the subset from the given sequence"
   ]
  },
  {
   "cell_type": "code",
   "execution_count": 48,
   "id": "68519a39-6cb6-4e4a-ac98-5acad695baca",
   "metadata": {},
   "outputs": [],
   "source": [
    "x = \"hello class, welcome to mlops complete bootcamp\""
   ]
  },
  {
   "cell_type": "code",
   "execution_count": 49,
   "id": "807c87ef-d034-40ba-ade2-35d9bbbac4e3",
   "metadata": {},
   "outputs": [
    {
     "name": "stdout",
     "output_type": "stream",
     "text": [
      "hello class, welcome to mlops complete bootcamp\n"
     ]
    }
   ],
   "source": [
    "print(x)"
   ]
  },
  {
   "cell_type": "code",
   "execution_count": 52,
   "id": "7b41626d-78f0-4c2b-a553-21f4bdaff8f0",
   "metadata": {},
   "outputs": [
    {
     "data": {
      "text/plain": [
       "' '"
      ]
     },
     "execution_count": 52,
     "metadata": {},
     "output_type": "execute_result"
    }
   ],
   "source": [
    "# Indexing starts from zero\n",
    "x[5]"
   ]
  },
  {
   "cell_type": "code",
   "execution_count": 53,
   "id": "7f9ef922-99c7-4ae3-8aaf-1d39f5c16401",
   "metadata": {},
   "outputs": [],
   "source": [
    "# Slicing - getting the subset\n",
    "# variable[start:stop] - start index position is inclusive, and end is exclusive"
   ]
  },
  {
   "cell_type": "code",
   "execution_count": 54,
   "id": "8776dee3-6690-4445-a57a-ca4ab11dfda4",
   "metadata": {},
   "outputs": [
    {
     "data": {
      "text/plain": [
       "'ello'"
      ]
     },
     "execution_count": 54,
     "metadata": {},
     "output_type": "execute_result"
    }
   ],
   "source": [
    "\n",
    "x[1:5] # start with 1st index , go till 5, but excluding 5"
   ]
  },
  {
   "cell_type": "code",
   "execution_count": 55,
   "id": "54daee5d-1e63-4fcf-9ef2-f45a5612408d",
   "metadata": {},
   "outputs": [
    {
     "ename": "TypeError",
     "evalue": "'str' object does not support item assignment",
     "output_type": "error",
     "traceback": [
      "\u001b[1;31m---------------------------------------------------------------------------\u001b[0m",
      "\u001b[1;31mTypeError\u001b[0m                                 Traceback (most recent call last)",
      "Cell \u001b[1;32mIn[55], line 1\u001b[0m\n\u001b[1;32m----> 1\u001b[0m x[\u001b[38;5;241m0\u001b[39m] \u001b[38;5;241m=\u001b[39m \u001b[38;5;124m'\u001b[39m\u001b[38;5;124mH\u001b[39m\u001b[38;5;124m'\u001b[39m\n",
      "\u001b[1;31mTypeError\u001b[0m: 'str' object does not support item assignment"
     ]
    }
   ],
   "source": [
    "x[0] = 'H'"
   ]
  },
  {
   "cell_type": "markdown",
   "id": "00fed708-f85b-4e30-a555-33e5e6c23225",
   "metadata": {},
   "source": [
    "# Built-in Fuctions"
   ]
  },
  {
   "cell_type": "code",
   "execution_count": 56,
   "id": "8d463292-4b03-42bd-bb83-a990ba90cf46",
   "metadata": {},
   "outputs": [],
   "source": [
    "# Single line\n",
    "x = 'hello world welcome to mlops 12312'\n",
    "y = \" hello world mlops\"\n",
    "\n",
    "# Multi line string\n",
    "z = ''' hello world welcome '''\n",
    "w = \"\"\" welcome to mlops class \"\"\""
   ]
  },
  {
   "cell_type": "code",
   "execution_count": 59,
   "id": "e29f3028-33ab-4f22-94a2-d5a5921617de",
   "metadata": {},
   "outputs": [
    {
     "data": {
      "text/plain": [
       "'Hello world welcome to mlops 12312'"
      ]
     },
     "execution_count": 59,
     "metadata": {},
     "output_type": "execute_result"
    }
   ],
   "source": [
    "x.capitalize() #first letter capitalization # shift+tab to see info"
   ]
  },
  {
   "cell_type": "code",
   "execution_count": 58,
   "id": "59d4b090-d8a7-4f97-a0de-6a98f56f0032",
   "metadata": {},
   "outputs": [
    {
     "data": {
      "text/plain": [
       "False"
      ]
     },
     "execution_count": 58,
     "metadata": {},
     "output_type": "execute_result"
    }
   ],
   "source": [
    "x.isalnumum() # check whether the string is alpha numeric is or not"
   ]
  },
  {
   "cell_type": "code",
   "execution_count": 60,
   "id": "a2066061-30e4-49c6-9178-bf5fee4781e1",
   "metadata": {},
   "outputs": [
    {
     "data": {
      "text/plain": [
       "True"
      ]
     },
     "execution_count": 60,
     "metadata": {},
     "output_type": "execute_result"
    }
   ],
   "source": [
    "\"welcome123\".isalnum()"
   ]
  },
  {
   "cell_type": "code",
   "execution_count": 61,
   "id": "6cce1ff5-091a-41b0-ac98-40e87702594b",
   "metadata": {},
   "outputs": [
    {
     "data": {
      "text/plain": [
       "'welcome to python'"
      ]
     },
     "execution_count": 61,
     "metadata": {},
     "output_type": "execute_result"
    }
   ],
   "source": [
    "a = 'WELCOME TO PYTHON'\n",
    "a.lower()"
   ]
  },
  {
   "cell_type": "code",
   "execution_count": 62,
   "id": "20c4019d-35d0-49d2-8191-85797029c5b1",
   "metadata": {},
   "outputs": [
    {
     "data": {
      "text/plain": [
       "'HELLO WORLD WELCOME TO MLOPS 12312'"
      ]
     },
     "execution_count": 62,
     "metadata": {},
     "output_type": "execute_result"
    }
   ],
   "source": [
    "x.upper()"
   ]
  },
  {
   "cell_type": "code",
   "execution_count": 63,
   "id": "1a1a214d-b163-44fe-bd5e-06012fcd57cd",
   "metadata": {},
   "outputs": [
    {
     "name": "stdout",
     "output_type": "stream",
     "text": [
      "welcome.\n"
     ]
    }
   ],
   "source": [
    "#strip\n",
    "a = \"    welcome.  \"\n",
    "print(a.strip())"
   ]
  },
  {
   "cell_type": "markdown",
   "id": "b1b580e0-06dc-4326-afdb-20d0eaa9e4da",
   "metadata": {},
   "source": [
    "# List"
   ]
  },
  {
   "cell_type": "markdown",
   "id": "07ba8f53-8b03-4849-8fb4-b4653bf3bde9",
   "metadata": {},
   "source": [
    "In Python, a list serves as a flexible and mutable data type designed for storing a group of items. Maintaining order is a key feature of lists, ensuring that the sequence in which elements are added is retained. Lists can accommodate diverse data types, encompassing numbers, strings, and even nested lists. The syntax for defining a list involves enclosing a sequence of elements in square brackets, with commas separating individual items."
   ]
  },
  {
   "cell_type": "code",
   "execution_count": 64,
   "id": "1ee636fe-87ad-48df-ad66-92920400b174",
   "metadata": {},
   "outputs": [
    {
     "name": "stdout",
     "output_type": "stream",
     "text": [
      "[20, 30, 'hello', 'welcome', 12.25]\n"
     ]
    }
   ],
   "source": [
    "x = [20, 30,\"hello\",\"welcome\",12.25]\n",
    "print(x)"
   ]
  },
  {
   "cell_type": "code",
   "execution_count": 65,
   "id": "eba7f17d-495b-49c3-829c-997032cb5bcf",
   "metadata": {},
   "outputs": [
    {
     "data": {
      "text/plain": [
       "list"
      ]
     },
     "execution_count": 65,
     "metadata": {},
     "output_type": "execute_result"
    }
   ],
   "source": [
    "type(x)"
   ]
  },
  {
   "cell_type": "code",
   "execution_count": 66,
   "id": "5f1a021d-0fcd-4c52-9f05-87ebce998dc9",
   "metadata": {},
   "outputs": [
    {
     "name": "stdout",
     "output_type": "stream",
     "text": [
      "<class 'list'>\n"
     ]
    }
   ],
   "source": [
    "print(type(x))\n"
   ]
  },
  {
   "cell_type": "markdown",
   "id": "013d2140-6ab4-4ba0-9c33-9f9385dedad2",
   "metadata": {},
   "source": [
    "# Operation in list"
   ]
  },
  {
   "cell_type": "code",
   "execution_count": 67,
   "id": "14e43734-088a-4219-8654-c85bf385b3b3",
   "metadata": {},
   "outputs": [],
   "source": [
    "x = [10,20]\n",
    "y = ['welcome','class']"
   ]
  },
  {
   "cell_type": "code",
   "execution_count": 68,
   "id": "5b68412e-f201-479a-932a-0ab6c9ba7ea2",
   "metadata": {},
   "outputs": [
    {
     "data": {
      "text/plain": [
       "[10, 20, 10, 20, 10, 20]"
      ]
     },
     "execution_count": 68,
     "metadata": {},
     "output_type": "execute_result"
    }
   ],
   "source": [
    "x*3"
   ]
  },
  {
   "cell_type": "code",
   "execution_count": 69,
   "id": "db148f07-a712-4463-8887-4cde764c0c87",
   "metadata": {},
   "outputs": [
    {
     "data": {
      "text/plain": [
       "True"
      ]
     },
     "execution_count": 69,
     "metadata": {},
     "output_type": "execute_result"
    }
   ],
   "source": [
    "10 in x"
   ]
  },
  {
   "cell_type": "code",
   "execution_count": 70,
   "id": "5fb99eba-b3e5-4e64-a94d-11ee3ceca376",
   "metadata": {},
   "outputs": [
    {
     "data": {
      "text/plain": [
       "2"
      ]
     },
     "execution_count": 70,
     "metadata": {},
     "output_type": "execute_result"
    }
   ],
   "source": [
    "len(x)"
   ]
  },
  {
   "cell_type": "code",
   "execution_count": 71,
   "id": "7c050d92-3f90-40f2-b64c-759b349201f0",
   "metadata": {},
   "outputs": [
    {
     "name": "stdout",
     "output_type": "stream",
     "text": [
      "[20, 30, 'hello', 'welcome', 12.25]\n"
     ]
    }
   ],
   "source": [
    "x = [20, 30,\"hello\",\"welcome\",12.25]\n",
    "print(x)"
   ]
  },
  {
   "cell_type": "code",
   "execution_count": 72,
   "id": "7cdc2978-04e2-4096-a415-4b7cf9f90160",
   "metadata": {},
   "outputs": [
    {
     "data": {
      "text/plain": [
       "20"
      ]
     },
     "execution_count": 72,
     "metadata": {},
     "output_type": "execute_result"
    }
   ],
   "source": [
    "x[0]"
   ]
  },
  {
   "cell_type": "code",
   "execution_count": 73,
   "id": "bd19a9d4-7596-410c-9069-f551c2f54de4",
   "metadata": {},
   "outputs": [
    {
     "ename": "IndexError",
     "evalue": "list index out of range",
     "output_type": "error",
     "traceback": [
      "\u001b[1;31m---------------------------------------------------------------------------\u001b[0m",
      "\u001b[1;31mIndexError\u001b[0m                                Traceback (most recent call last)",
      "Cell \u001b[1;32mIn[73], line 1\u001b[0m\n\u001b[1;32m----> 1\u001b[0m x[\u001b[38;5;241m30\u001b[39m]\n",
      "\u001b[1;31mIndexError\u001b[0m: list index out of range"
     ]
    }
   ],
   "source": [
    "x[30]"
   ]
  },
  {
   "cell_type": "code",
   "execution_count": 74,
   "id": "82ed042a-b772-495e-99a9-60408e3df90f",
   "metadata": {},
   "outputs": [
    {
     "data": {
      "text/plain": [
       "'welcome'"
      ]
     },
     "execution_count": 74,
     "metadata": {},
     "output_type": "execute_result"
    }
   ],
   "source": [
    "x[3]"
   ]
  },
  {
   "cell_type": "code",
   "execution_count": 75,
   "id": "2daf54a7-6077-4f8a-a463-530790fe8c53",
   "metadata": {},
   "outputs": [
    {
     "data": {
      "text/plain": [
       "[20, 30, 'hello', 'welcome']"
      ]
     },
     "execution_count": 75,
     "metadata": {},
     "output_type": "execute_result"
    }
   ],
   "source": [
    "x[0:4]"
   ]
  },
  {
   "cell_type": "code",
   "execution_count": 76,
   "id": "59810715-e489-4048-8724-a333ff12d4a7",
   "metadata": {},
   "outputs": [
    {
     "data": {
      "text/plain": [
       "[20, 30, 'mlops', 'welcome', 12.25]"
      ]
     },
     "execution_count": 76,
     "metadata": {},
     "output_type": "execute_result"
    }
   ],
   "source": [
    "x[2] = 'mlops'\n",
    "x"
   ]
  },
  {
   "cell_type": "markdown",
   "id": "e0905911-6144-4604-a2de-9ad55870e8ac",
   "metadata": {},
   "source": [
    "# Built-in FUction for List"
   ]
  },
  {
   "cell_type": "code",
   "execution_count": 77,
   "id": "6d5839de-3b03-41ec-8575-12c3c597bee2",
   "metadata": {},
   "outputs": [
    {
     "data": {
      "text/plain": [
       "[20, 30, 'mlops', 'welcome', 12.25, 999]"
      ]
     },
     "execution_count": 77,
     "metadata": {},
     "output_type": "execute_result"
    }
   ],
   "source": [
    "x.append(999)\n",
    "x"
   ]
  },
  {
   "cell_type": "code",
   "execution_count": 78,
   "id": "ad0718ef-0d36-4427-be4f-2cf4ffdb6b13",
   "metadata": {},
   "outputs": [
    {
     "data": {
      "text/plain": [
       "[20, 30, 'mlops', 'welcome', 999]"
      ]
     },
     "execution_count": 78,
     "metadata": {},
     "output_type": "execute_result"
    }
   ],
   "source": [
    "x.remove(12.25)\n",
    "x"
   ]
  },
  {
   "cell_type": "markdown",
   "id": "04cd19e8-769d-4873-b423-124568e8a15e",
   "metadata": {},
   "source": [
    "# Tuples\n",
    "Within Python, a tuple stands as an additional built-in and ordered collection type akin to a list. Nevertheless, distinctions between lists and tuples exist:\r\n",
    "\r\n",
    "Immutability: Tuples are characterized by immutability, signifying that their elements remain unalterable after the tuple's creation. Once a tuple is established, the addition, removal, or modification of elements becomes unfeasible.\r\n",
    "\r\n",
    "Syntax: The definition of tuples involves enclosing a sequence of elements, separated by commas, within parentheses ()."
   ]
  },
  {
   "cell_type": "code",
   "execution_count": 79,
   "id": "24831afc-f58c-4bfa-b603-939426c1d06c",
   "metadata": {},
   "outputs": [
    {
     "data": {
      "text/plain": [
       "tuple"
      ]
     },
     "execution_count": 79,
     "metadata": {},
     "output_type": "execute_result"
    }
   ],
   "source": [
    "tup = (10, 20, 'welcome','mlops',12.567)\n",
    "type(tup)"
   ]
  },
  {
   "cell_type": "code",
   "execution_count": 80,
   "id": "ef5a4292-c208-49e9-9b81-2c81490c92c9",
   "metadata": {},
   "outputs": [
    {
     "ename": "TypeError",
     "evalue": "'tuple' object does not support item assignment",
     "output_type": "error",
     "traceback": [
      "\u001b[1;31m---------------------------------------------------------------------------\u001b[0m",
      "\u001b[1;31mTypeError\u001b[0m                                 Traceback (most recent call last)",
      "Cell \u001b[1;32mIn[80], line 2\u001b[0m\n\u001b[0;32m      1\u001b[0m \u001b[38;5;66;03m# immutable\u001b[39;00m\n\u001b[1;32m----> 2\u001b[0m tup[\u001b[38;5;241m0\u001b[39m] \u001b[38;5;241m=\u001b[39m \u001b[38;5;124m'\u001b[39m\u001b[38;5;124mwelcome\u001b[39m\u001b[38;5;124m'\u001b[39m\n",
      "\u001b[1;31mTypeError\u001b[0m: 'tuple' object does not support item assignment"
     ]
    }
   ],
   "source": [
    "\n",
    "# immutable\n",
    "tup[0] = 'welcome'"
   ]
  },
  {
   "cell_type": "code",
   "execution_count": 81,
   "id": "535b85a5-39de-4ac4-9cef-c77c79da9e01",
   "metadata": {},
   "outputs": [
    {
     "data": {
      "text/plain": [
       "(10, 20, 'welcome', 'mlops', 12.567)"
      ]
     },
     "execution_count": 81,
     "metadata": {},
     "output_type": "execute_result"
    }
   ],
   "source": [
    "tup"
   ]
  },
  {
   "cell_type": "code",
   "execution_count": 82,
   "id": "331fde06-0da1-4d97-916e-6f0d4faf56cd",
   "metadata": {},
   "outputs": [
    {
     "data": {
      "text/plain": [
       "(10, 20, 'welcome', 'mlops', 12.567, 10, 20, 'welcome', 'mlops', 12.567)"
      ]
     },
     "execution_count": 82,
     "metadata": {},
     "output_type": "execute_result"
    }
   ],
   "source": [
    "tup+tup"
   ]
  },
  {
   "cell_type": "code",
   "execution_count": 83,
   "id": "120176bc-b360-4df0-a361-5b99effa03eb",
   "metadata": {},
   "outputs": [
    {
     "data": {
      "text/plain": [
       "(10,\n",
       " 20,\n",
       " 'welcome',\n",
       " 'mlops',\n",
       " 12.567,\n",
       " 10,\n",
       " 20,\n",
       " 'welcome',\n",
       " 'mlops',\n",
       " 12.567,\n",
       " 10,\n",
       " 20,\n",
       " 'welcome',\n",
       " 'mlops',\n",
       " 12.567)"
      ]
     },
     "execution_count": 83,
     "metadata": {},
     "output_type": "execute_result"
    }
   ],
   "source": [
    "tup*3"
   ]
  },
  {
   "cell_type": "code",
   "execution_count": 84,
   "id": "7a8427d1-2172-4457-995e-7702b1d89d09",
   "metadata": {},
   "outputs": [
    {
     "data": {
      "text/plain": [
       "'welcome'"
      ]
     },
     "execution_count": 84,
     "metadata": {},
     "output_type": "execute_result"
    }
   ],
   "source": [
    "\n",
    "tup[2] # indexing"
   ]
  },
  {
   "cell_type": "code",
   "execution_count": 85,
   "id": "d57058a6-52a3-435c-8c4b-b90714fdf2b7",
   "metadata": {},
   "outputs": [
    {
     "data": {
      "text/plain": [
       "(20, 'welcome', 'mlops')"
      ]
     },
     "execution_count": 85,
     "metadata": {},
     "output_type": "execute_result"
    }
   ],
   "source": [
    "tup[1:4] # slicing"
   ]
  },
  {
   "cell_type": "code",
   "execution_count": 86,
   "id": "84e1d42c-6406-431c-9c76-8f501a4d0eb6",
   "metadata": {},
   "outputs": [
    {
     "data": {
      "text/plain": [
       "5"
      ]
     },
     "execution_count": 86,
     "metadata": {},
     "output_type": "execute_result"
    }
   ],
   "source": [
    "len(tup)"
   ]
  },
  {
   "cell_type": "markdown",
   "id": "f08121e7-746b-4c39-8355-4da454cfa156",
   "metadata": {},
   "source": [
    "# Dictionary\n",
    "In Python, a dictionary is a versatile and mutable data type that is used to store key-value pairs. Unlike lists and tuples, which are indexed by a range of numbers, dictionaries are indexed by keys, which can be of any immutable data type, such as strings or numbers."
   ]
  },
  {
   "cell_type": "code",
   "execution_count": 87,
   "id": "a5531149-91f9-4cc0-a468-80b303618c73",
   "metadata": {},
   "outputs": [
    {
     "data": {
      "text/plain": [
       "{'number': 9000, 'name': 'john', 'age': 25, 'city': 'bangalore'}"
      ]
     },
     "execution_count": 87,
     "metadata": {},
     "output_type": "execute_result"
    }
   ],
   "source": [
    "x = {'number' : 9000, \"name\": \"john\", 'age':25, 'city': 'bangalore'}\n",
    "x"
   ]
  },
  {
   "cell_type": "code",
   "execution_count": 89,
   "id": "5ffb3bfc-0ea7-49db-89d6-4540aec8bd85",
   "metadata": {},
   "outputs": [
    {
     "data": {
      "text/plain": [
       "'john'"
      ]
     },
     "execution_count": 89,
     "metadata": {},
     "output_type": "execute_result"
    }
   ],
   "source": [
    "x['name']"
   ]
  },
  {
   "cell_type": "code",
   "execution_count": 90,
   "id": "2f3a4106-0156-44ad-aa98-fe7479969554",
   "metadata": {},
   "outputs": [
    {
     "data": {
      "text/plain": [
       "{'number': 9000, 'name': 'jacob', 'age': 25, 'city': 'bangalore'}"
      ]
     },
     "execution_count": 90,
     "metadata": {},
     "output_type": "execute_result"
    }
   ],
   "source": [
    "x['name']='jacob'\n",
    "x\n"
   ]
  },
  {
   "cell_type": "code",
   "execution_count": 91,
   "id": "1af0d14b-7d0b-4b73-a7eb-4878b5167555",
   "metadata": {},
   "outputs": [
    {
     "data": {
      "text/plain": [
       "25"
      ]
     },
     "execution_count": 91,
     "metadata": {},
     "output_type": "execute_result"
    }
   ],
   "source": [
    "x['age']"
   ]
  },
  {
   "cell_type": "code",
   "execution_count": 92,
   "id": "854df8d3-2f17-4dfc-921a-74602cd78828",
   "metadata": {},
   "outputs": [
    {
     "data": {
      "text/plain": [
       "4"
      ]
     },
     "execution_count": 92,
     "metadata": {},
     "output_type": "execute_result"
    }
   ],
   "source": [
    "len(x)"
   ]
  },
  {
   "cell_type": "code",
   "execution_count": 93,
   "id": "1e0a5230-49ce-4cc3-8d39-a1e477c978c0",
   "metadata": {},
   "outputs": [
    {
     "data": {
      "text/plain": [
       "dict_keys(['number', 'name', 'age', 'city'])"
      ]
     },
     "execution_count": 93,
     "metadata": {},
     "output_type": "execute_result"
    }
   ],
   "source": [
    "x.keys()"
   ]
  },
  {
   "cell_type": "code",
   "execution_count": 94,
   "id": "8c831f5a-25fc-4841-86d1-8d42ba161017",
   "metadata": {},
   "outputs": [
    {
     "data": {
      "text/plain": [
       "dict_values([9000, 'jacob', 25, 'bangalore'])"
      ]
     },
     "execution_count": 94,
     "metadata": {},
     "output_type": "execute_result"
    }
   ],
   "source": [
    "x.values()"
   ]
  },
  {
   "cell_type": "code",
   "execution_count": 95,
   "id": "20f349a7-0e8f-4df3-8ca4-250aa0ab2fbc",
   "metadata": {},
   "outputs": [
    {
     "data": {
      "text/plain": [
       "dict_items([('number', 9000), ('name', 'jacob'), ('age', 25), ('city', 'bangalore')])"
      ]
     },
     "execution_count": 95,
     "metadata": {},
     "output_type": "execute_result"
    }
   ],
   "source": [
    "x.items()"
   ]
  },
  {
   "cell_type": "markdown",
   "id": "29c54eeb-d70f-4b8c-b9d2-6d491f95d5c6",
   "metadata": {},
   "source": [
    "# Sets\n",
    "In Python, a set is an unordered and mutable collection of unique elements. Sets are similar to lists and tuples, but they differ in that they do not allow duplicate elements, and the order of elements is not preserved. Sets are defined by enclosing a comma-separated sequence of elements within curly braces {}"
   ]
  },
  {
   "cell_type": "code",
   "execution_count": 96,
   "id": "953746af-6030-4bdb-b3e4-7f90fdb611e5",
   "metadata": {},
   "outputs": [
    {
     "name": "stdout",
     "output_type": "stream",
     "text": [
      "{'hello', 100, 20, 'hi', 10, 'welcome', 30}\n"
     ]
    }
   ],
   "source": [
    "my_set = {10,20,30,\"hello\",\"welcome\",100,\"hi\"}\n",
    "print(my_set)"
   ]
  },
  {
   "cell_type": "code",
   "execution_count": 97,
   "id": "33d4fb56-3285-4604-84bf-e3f289b2a19d",
   "metadata": {},
   "outputs": [
    {
     "data": {
      "text/plain": [
       "7"
      ]
     },
     "execution_count": 97,
     "metadata": {},
     "output_type": "execute_result"
    }
   ],
   "source": [
    "len(my_set)"
   ]
  },
  {
   "cell_type": "code",
   "execution_count": 98,
   "id": "fabc669c-af99-4e4e-8583-782449d22349",
   "metadata": {},
   "outputs": [
    {
     "name": "stdout",
     "output_type": "stream",
     "text": [
      "{'hello', 100, 20, 'hi', 10, 'welcome', 30}\n"
     ]
    }
   ],
   "source": [
    "my_set = {10,20,30,\"hello\",\"welcome\",100,\"hi\",100,100} # unique values\n",
    "print(my_set)"
   ]
  },
  {
   "cell_type": "code",
   "execution_count": 99,
   "id": "508f8cb1-c966-45b4-a510-e2b1bc4e2408",
   "metadata": {},
   "outputs": [
    {
     "ename": "TypeError",
     "evalue": "'set' object is not subscriptable",
     "output_type": "error",
     "traceback": [
      "\u001b[1;31m---------------------------------------------------------------------------\u001b[0m",
      "\u001b[1;31mTypeError\u001b[0m                                 Traceback (most recent call last)",
      "Cell \u001b[1;32mIn[99], line 1\u001b[0m\n\u001b[1;32m----> 1\u001b[0m my_set[\u001b[38;5;241m0\u001b[39m]\n",
      "\u001b[1;31mTypeError\u001b[0m: 'set' object is not subscriptable"
     ]
    }
   ],
   "source": [
    "\n",
    "my_set[0] #indexing is not supported"
   ]
  },
  {
   "cell_type": "code",
   "execution_count": 100,
   "id": "6a4d0730-e211-4b46-aa95-190a7b2d8bbe",
   "metadata": {},
   "outputs": [
    {
     "data": {
      "text/plain": [
       "True"
      ]
     },
     "execution_count": 100,
     "metadata": {},
     "output_type": "execute_result"
    }
   ],
   "source": [
    "\n",
    "\"hi\" in my_set"
   ]
  },
  {
   "cell_type": "markdown",
   "id": "aae56cc2-a73a-4656-bf49-7bb97616ec87",
   "metadata": {},
   "source": [
    "# Casting\n",
    "Casting in Python refers to the process of converting one data type into another.\r\n",
    "\r\n",
    "Implicit Casting\r\n",
    "Explicit Casting"
   ]
  },
  {
   "cell_type": "code",
   "execution_count": 101,
   "id": "ab396c30-2463-4178-8010-ba465c728244",
   "metadata": {},
   "outputs": [
    {
     "data": {
      "text/plain": [
       "3.0"
      ]
     },
     "execution_count": 101,
     "metadata": {},
     "output_type": "execute_result"
    }
   ],
   "source": [
    "2 * 1.5"
   ]
  },
  {
   "cell_type": "code",
   "execution_count": 102,
   "id": "be431644-d380-4d8b-a915-4eadc9e6bb73",
   "metadata": {},
   "outputs": [
    {
     "data": {
      "text/plain": [
       "3"
      ]
     },
     "execution_count": 102,
     "metadata": {},
     "output_type": "execute_result"
    }
   ],
   "source": [
    "float_number = 3.14\n",
    "integer_number = int(float_number)  # Result: 3\n",
    "integer_number"
   ]
  },
  {
   "cell_type": "code",
   "execution_count": 103,
   "id": "6d234975-0d5b-4b35-a44f-e31a1714ef96",
   "metadata": {},
   "outputs": [
    {
     "data": {
      "text/plain": [
       "42.0"
      ]
     },
     "execution_count": 103,
     "metadata": {},
     "output_type": "execute_result"
    }
   ],
   "source": [
    "integer_number = 42\n",
    "float_number = float(integer_number)  # Result: 42.0\n",
    "float_number"
   ]
  },
  {
   "cell_type": "code",
   "execution_count": 104,
   "id": "c537c378-bbf1-4948-becb-779fb2fb9a21",
   "metadata": {},
   "outputs": [
    {
     "data": {
      "text/plain": [
       "'123'"
      ]
     },
     "execution_count": 104,
     "metadata": {},
     "output_type": "execute_result"
    }
   ],
   "source": [
    "number = 123\n",
    "string_number = str(number)  # Result: '123'\n",
    "string_number"
   ]
  },
  {
   "cell_type": "code",
   "execution_count": 105,
   "id": "e5876e50-9351-4a1a-b828-d9eeb53de804",
   "metadata": {},
   "outputs": [
    {
     "data": {
      "text/plain": [
       "[1, 2, 3]"
      ]
     },
     "execution_count": 105,
     "metadata": {},
     "output_type": "execute_result"
    }
   ],
   "source": [
    "my_tuple = (1, 2, 3)\n",
    "list_from_tuple = list(my_tuple)  # Result: [1, 2, 3]\n",
    "list_from_tuple"
   ]
  },
  {
   "cell_type": "code",
   "execution_count": 106,
   "id": "baf2f964-e734-4ced-9c01-1c7ab8910f86",
   "metadata": {},
   "outputs": [
    {
     "data": {
      "text/plain": [
       "(4, 5, 6)"
      ]
     },
     "execution_count": 106,
     "metadata": {},
     "output_type": "execute_result"
    }
   ],
   "source": [
    "my_list = [4, 5, 6]\n",
    "tuple_from_list = tuple(my_list)  # Result: (4, 5, 6)\n",
    "tuple_from_list"
   ]
  },
  {
   "cell_type": "code",
   "execution_count": 107,
   "id": "ff685afc-0171-49ba-93dc-4c8d8e191608",
   "metadata": {},
   "outputs": [
    {
     "data": {
      "text/plain": [
       "{1, 2, 3}"
      ]
     },
     "execution_count": 107,
     "metadata": {},
     "output_type": "execute_result"
    }
   ],
   "source": [
    "my_list = [1, 2, 2, 3, 3]\n",
    "set_from_list = set(my_list)  # Result: {1, 2, 3}\n",
    "set_from_list"
   ]
  },
  {
   "cell_type": "markdown",
   "id": "dec8aee5-d15f-4d7a-9e74-5657b7c68444",
   "metadata": {},
   "source": [
    "# Reading input from user"
   ]
  },
  {
   "cell_type": "markdown",
   "id": "1fad36bc-7b40-41ce-9ec7-a13175cfc780",
   "metadata": {},
   "source": [
    "In Python, you can use the input() function to read input from the user.\r\n",
    "The input() function takes a string as an argument, which serves as the prompt displayed to the user. It waits for the user to enter data and press Enter. The entered data is returned as a string."
   ]
  },
  {
   "cell_type": "code",
   "execution_count": 108,
   "id": "088219db-7cd1-41a4-b423-9f564ece811a",
   "metadata": {},
   "outputs": [
    {
     "name": "stdin",
     "output_type": "stream",
     "text": [
      "Enter the value to store: 100\n"
     ]
    },
    {
     "name": "stdout",
     "output_type": "stream",
     "text": [
      "output is 100\n"
     ]
    }
   ],
   "source": [
    "user_input = input(\"Enter the value to store:\")\n",
    "print(\"output is\",user_input)"
   ]
  },
  {
   "cell_type": "code",
   "execution_count": 110,
   "id": "6f0b4311-bb8f-4df0-adc7-13357ecbb7e3",
   "metadata": {},
   "outputs": [
    {
     "data": {
      "text/plain": [
       "str"
      ]
     },
     "execution_count": 110,
     "metadata": {},
     "output_type": "execute_result"
    }
   ],
   "source": [
    "\n",
    "type(user_input)"
   ]
  },
  {
   "cell_type": "code",
   "execution_count": 111,
   "id": "ced4f3c0-33ed-4dcc-a5ff-f075f7f3362c",
   "metadata": {},
   "outputs": [
    {
     "name": "stdin",
     "output_type": "stream",
     "text": [
      "Enter the number 1:  11\n",
      "Enter the number 2:  11\n"
     ]
    },
    {
     "name": "stdout",
     "output_type": "stream",
     "text": [
      "22\n"
     ]
    }
   ],
   "source": [
    "user_input_1 = int(input(\"Enter the number 1: \"))\n",
    "user_input_2 = int(input(\"Enter the number 2: \"))\n",
    "s = user_input_1 + user_input_2\n",
    "print(s)"
   ]
  },
  {
   "cell_type": "markdown",
   "id": "63eed91b-e70b-4cc6-ab14-79ccf7a72843",
   "metadata": {},
   "source": [
    "# String Formatting"
   ]
  },
  {
   "cell_type": "markdown",
   "id": "fe8868fd-04de-4f2a-8581-a25facaec0f8",
   "metadata": {},
   "source": [
    "String formatting in Python refers to the ways in which you can create strings with dynamic content, incorporating variables, expressions, or values within a string."
   ]
  },
  {
   "cell_type": "code",
   "execution_count": 113,
   "id": "8f020155-63ca-4f91-bf0f-e7d0d6b61305",
   "metadata": {},
   "outputs": [
    {
     "name": "stdout",
     "output_type": "stream",
     "text": [
      "the first number is 10 the second number is 20 sum is 30\n"
     ]
    }
   ],
   "source": [
    "\n",
    "x = 10\n",
    "y = 20\n",
    "s = x+y\n",
    "\n",
    "print(\"the first number is\",x,\"the second number is\",y,\"sum is\",s)"
   ]
  },
  {
   "cell_type": "code",
   "execution_count": 116,
   "id": "573ea28d-b75d-4491-ac27-33a08311f9f6",
   "metadata": {},
   "outputs": [
    {
     "name": "stdout",
     "output_type": "stream",
     "text": [
      "the first number is 10, the second number is 20, and sum is 30\n"
     ]
    }
   ],
   "source": [
    "#str.format()\n",
    "message = \"the first number is {}, the second number is {}, and sum is {}\".format(x,y,s)\n",
    "print(message)"
   ]
  },
  {
   "cell_type": "code",
   "execution_count": 117,
   "id": "43098bca-bf59-4788-b25f-5e6e0e10ced8",
   "metadata": {},
   "outputs": [
    {
     "name": "stdout",
     "output_type": "stream",
     "text": [
      "the first number is 10, the second number is 20, and sum is 30\n"
     ]
    }
   ],
   "source": [
    "\n",
    "# F-strings\n",
    "message = f\"the first number is {x}, the second number is {y}, and sum is {s}\"\n",
    "print(message)"
   ]
  },
  {
   "cell_type": "markdown",
   "id": "7f03bddc-1b15-4c8c-92bc-5cf38798d9d8",
   "metadata": {},
   "source": [
    "# Conditional Statement"
   ]
  },
  {
   "cell_type": "markdown",
   "id": "f7d796d8-aaf7-4c20-848f-9fe34cde597e",
   "metadata": {},
   "source": [
    "Conditional statements in Python allow you to execute different blocks of code based on whether a specified condition evaluates to True or False. The primary constructs for handling conditions in Python are the if, elif (short for \"else if\"), and else statements."
   ]
  },
  {
   "cell_type": "code",
   "execution_count": 118,
   "id": "ec60523c-b6d8-4a7f-8832-f1ea2350a6da",
   "metadata": {},
   "outputs": [
    {
     "name": "stdout",
     "output_type": "stream",
     "text": [
      "x is positive\n"
     ]
    }
   ],
   "source": [
    "x=10\n",
    "if x>0:\n",
    "    print(\"x is positive\")"
   ]
  },
  {
   "cell_type": "code",
   "execution_count": 119,
   "id": "617e66a9-51d9-4345-ba79-6fa1e8943b6f",
   "metadata": {},
   "outputs": [],
   "source": [
    "x=-10\n",
    "if x>0:\n",
    "    print(\"x is positive\")"
   ]
  },
  {
   "cell_type": "code",
   "execution_count": 121,
   "id": "86322706-6698-4260-a7ae-a7ac6a2101fb",
   "metadata": {},
   "outputs": [
    {
     "name": "stdout",
     "output_type": "stream",
     "text": [
      "x is less than or equal to 0\n"
     ]
    }
   ],
   "source": [
    "x=-10\n",
    "if x>0:\n",
    "    print(\"x is positive\")\n",
    "\n",
    "else:\n",
    "    print(\"x is less than or equal to 0\")"
   ]
  },
  {
   "cell_type": "code",
   "execution_count": 124,
   "id": "5b395743-7c6e-40a1-a207-4eb2e1556878",
   "metadata": {},
   "outputs": [
    {
     "name": "stdout",
     "output_type": "stream",
     "text": [
      "x is negative\n"
     ]
    }
   ],
   "source": [
    "x= -10\n",
    "if x>0:\n",
    "    print(\"x is positive\")\n",
    "elif x==0:\n",
    "    print(\"x is equal to zero\")\n",
    "else:\n",
    "    print(\"x is negative\")"
   ]
  },
  {
   "cell_type": "markdown",
   "id": "091aa138-e15c-4f6b-b3fa-3eb7dc4ab046",
   "metadata": {},
   "source": [
    "# Control Statements:Loops"
   ]
  },
  {
   "cell_type": "markdown",
   "id": "f706cfba-9e56-41ad-a8da-97842c89a928",
   "metadata": {},
   "source": [
    "Looping statements in Python allow you to repeatedly execute a block of code. The two main types of loops in Python are for loops and while loops.\n",
    "\n",
    "for Loop: The for loop is used for iterating over a sequence (such as a list, tuple, string, or range) or other iterable objects.\n",
    "while Loop: The while loop is used to repeatedly execute a block of code as long as a specified condition is True."
   ]
  },
  {
   "cell_type": "code",
   "execution_count": 125,
   "id": "076cca05-89fe-485a-81c0-93fb4fb2d085",
   "metadata": {},
   "outputs": [
    {
     "name": "stdout",
     "output_type": "stream",
     "text": [
      "apple\n",
      "banana\n",
      "cherry\n"
     ]
    }
   ],
   "source": [
    "fruits = [\"apple\",'banana','cherry']\n",
    "for i in fruits:\n",
    "    print(i)"
   ]
  },
  {
   "cell_type": "code",
   "execution_count": 126,
   "id": "638837a3-4cb5-45ae-b3b1-72086bad6e4c",
   "metadata": {},
   "outputs": [
    {
     "name": "stdout",
     "output_type": "stream",
     "text": [
      "0\n",
      "1\n",
      "2\n"
     ]
    }
   ],
   "source": [
    "count=0\n",
    "\n",
    "while count<3:\n",
    "    print(count)\n",
    "    count+=1"
   ]
  },
  {
   "cell_type": "code",
   "execution_count": 128,
   "id": "40e321a4-062c-4e99-872f-7a46110598c5",
   "metadata": {},
   "outputs": [
    {
     "name": "stdout",
     "output_type": "stream",
     "text": [
      "apple\n",
      "banana\n"
     ]
    }
   ],
   "source": [
    "fruits = [\"apple\",'banana','cherry']\n",
    "\n",
    "for i in fruits:\n",
    "    print(i)\n",
    "    if i == \"banana\":\n",
    "        break"
   ]
  },
  {
   "cell_type": "code",
   "execution_count": 130,
   "id": "754621c0-4f3c-44b4-a57d-11bdd1bf832c",
   "metadata": {},
   "outputs": [
    {
     "name": "stdout",
     "output_type": "stream",
     "text": [
      "apple\n",
      "cherry\n"
     ]
    }
   ],
   "source": [
    "fruits = [\"apple\",'banana','cherry']\n",
    "\n",
    "for i in fruits:\n",
    "    \n",
    "    if i == \"banana\":\n",
    "        continue\n",
    "    print(i)"
   ]
  },
  {
   "cell_type": "markdown",
   "id": "50520228-1bb3-4130-bcd3-c26dee50b542",
   "metadata": {},
   "source": [
    "# List Comprehension"
   ]
  },
  {
   "cell_type": "code",
   "execution_count": 131,
   "id": "9a5ff253-7ffc-4f0b-8dda-00b0eaecd581",
   "metadata": {},
   "outputs": [
    {
     "name": "stdout",
     "output_type": "stream",
     "text": [
      "[1, 4, 9, 16, 25, 36, 49, 64]\n"
     ]
    }
   ],
   "source": [
    "x = [1,2,3,4,5,6,7,8]\n",
    "\n",
    "result = []\n",
    "for i in x:\n",
    "    result.append(i**2)\n",
    "print(result)"
   ]
  },
  {
   "cell_type": "code",
   "execution_count": 133,
   "id": "46bcab70-3e5d-4fc5-bfe6-57bd82719a1e",
   "metadata": {},
   "outputs": [
    {
     "data": {
      "text/plain": [
       "[1, 4, 9, 16, 25, 36, 49, 64]"
      ]
     },
     "execution_count": 133,
     "metadata": {},
     "output_type": "execute_result"
    }
   ],
   "source": [
    "[i**2 for i in x]"
   ]
  },
  {
   "cell_type": "code",
   "execution_count": 134,
   "id": "45dceaab-713a-4b35-b369-c296b7bf23b7",
   "metadata": {},
   "outputs": [
    {
     "data": {
      "text/plain": [
       "[4, 6, 8, 10]"
      ]
     },
     "execution_count": 134,
     "metadata": {},
     "output_type": "execute_result"
    }
   ],
   "source": [
    "[i++2 for i in x if i%2==0]"
   ]
  },
  {
   "cell_type": "markdown",
   "id": "2ad74289-49e1-4dd9-a81d-696e1fa30a6b",
   "metadata": {},
   "source": [
    "# Module in Python"
   ]
  },
  {
   "cell_type": "code",
   "execution_count": 135,
   "id": "0b883708-31c1-42f3-a2b4-95f773138a29",
   "metadata": {},
   "outputs": [],
   "source": [
    "import my_module"
   ]
  },
  {
   "cell_type": "code",
   "execution_count": 136,
   "id": "aac31c54-2696-4b61-b7f6-111d150fb5b9",
   "metadata": {},
   "outputs": [
    {
     "name": "stdout",
     "output_type": "stream",
     "text": [
      "hey, welcome to the classjohn\n"
     ]
    }
   ],
   "source": [
    "my_module.my_great(\"john\")"
   ]
  },
  {
   "cell_type": "code",
   "execution_count": 137,
   "id": "be783d94-54ce-4118-89a6-8d481afd11e3",
   "metadata": {},
   "outputs": [
    {
     "data": {
      "text/plain": [
       "25"
      ]
     },
     "execution_count": 137,
     "metadata": {},
     "output_type": "execute_result"
    }
   ],
   "source": [
    "my_module.age"
   ]
  },
  {
   "cell_type": "code",
   "execution_count": 138,
   "id": "4404f0e9-6ac8-4c16-99c7-d1d4bc70b3d5",
   "metadata": {},
   "outputs": [],
   "source": [
    "import math"
   ]
  },
  {
   "cell_type": "code",
   "execution_count": 139,
   "id": "a638696a-5906-4434-98a7-db04fef3e175",
   "metadata": {},
   "outputs": [
    {
     "data": {
      "text/plain": [
       "10.0"
      ]
     },
     "execution_count": 139,
     "metadata": {},
     "output_type": "execute_result"
    }
   ],
   "source": [
    "math.sqrt(100)"
   ]
  },
  {
   "cell_type": "markdown",
   "id": "a805b6f8-4ad7-460c-81a6-dc714021b4c5",
   "metadata": {},
   "source": [
    "# Classes and Objects in Python"
   ]
  },
  {
   "cell_type": "code",
   "execution_count": 140,
   "id": "21372d36-07e3-4929-b6d5-7a2b832f1c1d",
   "metadata": {},
   "outputs": [],
   "source": [
    "class MyClass:\n",
    "    # Class variable\n",
    "    class_variable = \"I am a class variable\"\n",
    "\n",
    "    # Constructor (initializer) method\n",
    "    def __init__(self, attribute1, attribute2):\n",
    "        # Instance variables\n",
    "        self.attribute1 = attribute1\n",
    "        self.attribute2 = attribute2\n",
    "\n",
    "    # Instance method\n",
    "    def display_attributes(self):\n",
    "        print(f\"Attribute 1: {self.attribute1}\")\n",
    "        print(f\"Attribute 2: {self.attribute2}\")\n",
    "\n",
    "    # Another instance method\n",
    "    def modify_attributes(self, new_value1, new_value2):\n",
    "        self.attribute1 = new_value1\n",
    "        self.attribute2 = new_value2"
   ]
  },
  {
   "cell_type": "code",
   "execution_count": 141,
   "id": "a83bc2b8-269b-4f93-a5a6-6c7f19d5a0b4",
   "metadata": {},
   "outputs": [],
   "source": [
    "obj1=MyClass(\"jacob\",\"john\")"
   ]
  },
  {
   "cell_type": "code",
   "execution_count": 143,
   "id": "0deb2989-42eb-4fd5-a167-f59fa12763f3",
   "metadata": {},
   "outputs": [
    {
     "name": "stdout",
     "output_type": "stream",
     "text": [
      "Attribute 1: jacob\n",
      "Attribute 2: john\n"
     ]
    }
   ],
   "source": [
    "obj1.display_attributes()"
   ]
  },
  {
   "cell_type": "code",
   "execution_count": 160,
   "id": "b96a6db1-fcb3-4b93-8520-7787c7bc75c5",
   "metadata": {},
   "outputs": [],
   "source": [
    "obj1.modify_attributes(\"give\",\"me\")"
   ]
  },
  {
   "cell_type": "code",
   "execution_count": 161,
   "id": "dcf762ef-e729-4004-9842-a5971c29dbbc",
   "metadata": {},
   "outputs": [
    {
     "name": "stdout",
     "output_type": "stream",
     "text": [
      "Attribute 1: give\n",
      "Attribute 2: me\n"
     ]
    }
   ],
   "source": [
    "obj1.display_attributes()"
   ]
  },
  {
   "cell_type": "code",
   "execution_count": 162,
   "id": "4a6d9239-902a-43dd-bf1c-606574e254cc",
   "metadata": {},
   "outputs": [
    {
     "data": {
      "text/plain": [
       "'give'"
      ]
     },
     "execution_count": 162,
     "metadata": {},
     "output_type": "execute_result"
    }
   ],
   "source": [
    "obj1.attribute1"
   ]
  },
  {
   "cell_type": "code",
   "execution_count": 148,
   "id": "a65043ea-6e53-4b5b-a0c8-22cd531ef5f0",
   "metadata": {},
   "outputs": [],
   "source": [
    "obj2=MyClass(\"jacob\",\"john\")"
   ]
  },
  {
   "cell_type": "code",
   "execution_count": 149,
   "id": "b5e90886-1049-4fd9-913b-8e6abd835f2d",
   "metadata": {},
   "outputs": [
    {
     "name": "stdout",
     "output_type": "stream",
     "text": [
      "Attribute 1: jacob\n",
      "Attribute 2: john\n"
     ]
    }
   ],
   "source": [
    "obj2.display_attributes()"
   ]
  },
  {
   "cell_type": "markdown",
   "id": "df2bb97e-75d7-40fc-92ee-3935a56ecbc8",
   "metadata": {},
   "source": [
    "# File handling"
   ]
  },
  {
   "cell_type": "markdown",
   "id": "5dd91d8a-dec0-4a2b-bced-3e019bc393ad",
   "metadata": {},
   "source": [
    "fileobj = open(filename,mode)\n",
    "\n",
    "- fileobj - file object returned by open()\n",
    "- filename - String name of the file\n",
    "- mode - string indicating the file's type and what we want to perform\n",
    "\n",
    "First Letter of mode indicates the operation :\n",
    "\n",
    "- r means read\n",
    "- w means write. If the file doesn't exist, it will be created. If already exists it will be over-written\n",
    "- x means write, but only if file doesn't exist\n",
    "- a means append (write after the end) if the file exists.\n",
    "\n",
    "Second letter of mode is file's type:\n",
    "\n",
    "- t (or nothing) means text\n",
    "- b means binary\n",
    "\n",
    "close the file once write is complete. fileobj.close()"
   ]
  },
  {
   "cell_type": "code",
   "execution_count": 150,
   "id": "055dcfaf-2571-48db-ae00-97642dbbc98d",
   "metadata": {},
   "outputs": [],
   "source": [
    "fileobj=open(\"example.txt\",\"wt\")\n",
    "fileobj.close()"
   ]
  },
  {
   "cell_type": "code",
   "execution_count": 151,
   "id": "b3d945de-cefd-40a4-bd7d-f258edf21887",
   "metadata": {},
   "outputs": [
    {
     "ename": "FileExistsError",
     "evalue": "[Errno 17] File exists: 'example.txt'",
     "output_type": "error",
     "traceback": [
      "\u001b[1;31m---------------------------------------------------------------------------\u001b[0m",
      "\u001b[1;31mFileExistsError\u001b[0m                           Traceback (most recent call last)",
      "Cell \u001b[1;32mIn[151], line 1\u001b[0m\n\u001b[1;32m----> 1\u001b[0m fileobj \u001b[38;5;241m=\u001b[39m \u001b[38;5;28mopen\u001b[39m(\u001b[38;5;124m'\u001b[39m\u001b[38;5;124mexample.txt\u001b[39m\u001b[38;5;124m'\u001b[39m,\u001b[38;5;124m'\u001b[39m\u001b[38;5;124mxt\u001b[39m\u001b[38;5;124m'\u001b[39m)\n\u001b[0;32m      2\u001b[0m fileobj\u001b[38;5;241m.\u001b[39mclose()\n",
      "File \u001b[1;32m~\\AppData\\Local\\anaconda3\\Lib\\site-packages\\IPython\\core\\interactiveshell.py:310\u001b[0m, in \u001b[0;36m_modified_open\u001b[1;34m(file, *args, **kwargs)\u001b[0m\n\u001b[0;32m    303\u001b[0m \u001b[38;5;28;01mif\u001b[39;00m file \u001b[38;5;129;01min\u001b[39;00m {\u001b[38;5;241m0\u001b[39m, \u001b[38;5;241m1\u001b[39m, \u001b[38;5;241m2\u001b[39m}:\n\u001b[0;32m    304\u001b[0m     \u001b[38;5;28;01mraise\u001b[39;00m \u001b[38;5;167;01mValueError\u001b[39;00m(\n\u001b[0;32m    305\u001b[0m         \u001b[38;5;124mf\u001b[39m\u001b[38;5;124m\"\u001b[39m\u001b[38;5;124mIPython won\u001b[39m\u001b[38;5;124m'\u001b[39m\u001b[38;5;124mt let you open fd=\u001b[39m\u001b[38;5;132;01m{\u001b[39;00mfile\u001b[38;5;132;01m}\u001b[39;00m\u001b[38;5;124m by default \u001b[39m\u001b[38;5;124m\"\u001b[39m\n\u001b[0;32m    306\u001b[0m         \u001b[38;5;124m\"\u001b[39m\u001b[38;5;124mas it is likely to crash IPython. If you know what you are doing, \u001b[39m\u001b[38;5;124m\"\u001b[39m\n\u001b[0;32m    307\u001b[0m         \u001b[38;5;124m\"\u001b[39m\u001b[38;5;124myou can use builtins\u001b[39m\u001b[38;5;124m'\u001b[39m\u001b[38;5;124m open.\u001b[39m\u001b[38;5;124m\"\u001b[39m\n\u001b[0;32m    308\u001b[0m     )\n\u001b[1;32m--> 310\u001b[0m \u001b[38;5;28;01mreturn\u001b[39;00m io_open(file, \u001b[38;5;241m*\u001b[39margs, \u001b[38;5;241m*\u001b[39m\u001b[38;5;241m*\u001b[39mkwargs)\n",
      "\u001b[1;31mFileExistsError\u001b[0m: [Errno 17] File exists: 'example.txt'"
     ]
    }
   ],
   "source": [
    "fileobj = open('example.txt','xt')\n",
    "fileobj.close()"
   ]
  },
  {
   "cell_type": "code",
   "execution_count": 152,
   "id": "c0360729-6ce6-4fc2-bf34-99a3b8f24b0e",
   "metadata": {},
   "outputs": [],
   "source": [
    "fileobj = open('example2.txt','xt')\n",
    "fileobj.close()"
   ]
  },
  {
   "cell_type": "code",
   "execution_count": 163,
   "id": "70621df6-7ab1-4cf1-82cc-bdd2fb1825b8",
   "metadata": {},
   "outputs": [],
   "source": [
    "f = open('example.txt','wt')\n",
    "f.write(\"give me\")\n",
    "f.close()"
   ]
  },
  {
   "cell_type": "code",
   "execution_count": 164,
   "id": "dd6f1094-c9de-4062-9444-90869f791383",
   "metadata": {},
   "outputs": [],
   "source": [
    "f=open('example.txt','rt')\n",
    "data=f.read()\n",
    "f.close()"
   ]
  },
  {
   "cell_type": "code",
   "execution_count": 165,
   "id": "fe70bf90-f926-43fa-a2bf-c203217c5f26",
   "metadata": {},
   "outputs": [
    {
     "data": {
      "text/plain": [
       "'give me'"
      ]
     },
     "execution_count": 165,
     "metadata": {},
     "output_type": "execute_result"
    }
   ],
   "source": [
    "data"
   ]
  },
  {
   "cell_type": "markdown",
   "id": "1cc0b67b-ab1a-4bf0-9a61-8dff19c812ec",
   "metadata": {},
   "source": [
    "# Escape Characters"
   ]
  },
  {
   "cell_type": "code",
   "execution_count": 166,
   "id": "7066119d-f252-480b-b906-cd8a1fd3bc56",
   "metadata": {},
   "outputs": [
    {
     "name": "stdout",
     "output_type": "stream",
     "text": [
      "hello \n",
      " world\n"
     ]
    }
   ],
   "source": [
    "print(\"hello \\n world\")"
   ]
  },
  {
   "cell_type": "code",
   "execution_count": 167,
   "id": "b2cd8cb8-167c-46d1-adf0-1b8852633a3f",
   "metadata": {},
   "outputs": [
    {
     "name": "stdout",
     "output_type": "stream",
     "text": [
      "hello\tworld\n"
     ]
    }
   ],
   "source": [
    "\n",
    "# \\t --> tab character\n",
    "print(\"hello\\tworld\")"
   ]
  },
  {
   "cell_type": "code",
   "execution_count": 168,
   "id": "d74fb219-daf7-4b68-8e67-9aaeefd19c66",
   "metadata": {},
   "outputs": [
    {
     "name": "stdout",
     "output_type": "stream",
     "text": [
      "hello\\world\n"
     ]
    }
   ],
   "source": [
    "# \\\\ --> backslash\n",
    "print(\"hello\\\\world\")"
   ]
  },
  {
   "cell_type": "code",
   "execution_count": null,
   "id": "96c53150-0b34-4d0b-9c81-c617f67f9e12",
   "metadata": {},
   "outputs": [],
   "source": []
  }
 ],
 "metadata": {
  "kernelspec": {
   "display_name": "Python 3 (ipykernel)",
   "language": "python",
   "name": "python3"
  },
  "language_info": {
   "codemirror_mode": {
    "name": "ipython",
    "version": 3
   },
   "file_extension": ".py",
   "mimetype": "text/x-python",
   "name": "python",
   "nbconvert_exporter": "python",
   "pygments_lexer": "ipython3",
   "version": "3.11.7"
  }
 },
 "nbformat": 4,
 "nbformat_minor": 5
}
